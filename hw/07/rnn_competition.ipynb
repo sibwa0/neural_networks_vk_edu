{
 "cells": [
  {
   "cell_type": "code",
   "execution_count": 1,
   "metadata": {
    "id": "uEEECO0YuBne"
   },
   "outputs": [],
   "source": [
    "import torch\n",
    "import torch.nn as nn\n",
    "from torch.optim import Adam, Adadelta\n",
    "import torch.optim as optim\n",
    "from torch.utils.data import DataLoader, Dataset\n",
    "from torch.utils.tensorboard import SummaryWriter\n",
    "import pandas as pd\n",
    "import os\n",
    "from tqdm import *\n",
    "import matplotlib.pyplot as plt\n",
    "from sklearn.metrics import mean_squared_error\n",
    "import pmdarima as pm\n",
    "import numpy as np\n",
    "%matplotlib inline"
   ]
  },
  {
   "cell_type": "markdown",
   "metadata": {
    "id": "UZt4AUonuBnh"
   },
   "source": [
    "# Ноутбук для ДЗ №4 обработка временных последовательностей RNN\n",
    "В данном дз вам будут данных времменая последовательно, которая описывает распределение хитов по времени за несколько лет. Вам нужно будет обучить модель RNN на исторических данных и потом сделать предсказание для \"будущего\" года, в текущей задаче это 2019 год"
   ]
  },
  {
   "cell_type": "markdown",
   "metadata": {
    "id": "JH_bS6dMuBni"
   },
   "source": [
    "## Готовим данные\n",
    "Три файла с данными\n",
    "1. исторические данные - train\n",
    "2. Тестовые данные текущего момента - derived\n",
    "3. Пример сабмита резкльтатов конкурса на кагле"
   ]
  },
  {
   "cell_type": "code",
   "execution_count": 2,
   "metadata": {
    "id": "p8kTWpXbuBnj"
   },
   "outputs": [],
   "source": [
    "def read_set(file):\n",
    "    data = pd.read_csv(file)\n",
    "    data['date'] = pd.to_datetime(data['date'])\n",
    "    data = data.rename(columns = {'DATE':'date'})\n",
    "    data = data.rename(columns = {'hits':'value'})\n",
    "    data = data.set_index('date')\n",
    "    return data"
   ]
  },
  {
   "cell_type": "code",
   "execution_count": 3,
   "metadata": {
    "id": "0uRKsNPHuBnj",
    "outputId": "87ec8102-587b-43ee-c33b-0361e316767c"
   },
   "outputs": [
    {
     "data": {
      "text/html": [
       "<div>\n",
       "<style scoped>\n",
       "    .dataframe tbody tr th:only-of-type {\n",
       "        vertical-align: middle;\n",
       "    }\n",
       "\n",
       "    .dataframe tbody tr th {\n",
       "        vertical-align: top;\n",
       "    }\n",
       "\n",
       "    .dataframe thead th {\n",
       "        text-align: right;\n",
       "    }\n",
       "</style>\n",
       "<table border=\"1\" class=\"dataframe\">\n",
       "  <thead>\n",
       "    <tr style=\"text-align: right;\">\n",
       "      <th></th>\n",
       "      <th>date</th>\n",
       "      <th>hits</th>\n",
       "    </tr>\n",
       "  </thead>\n",
       "  <tbody>\n",
       "    <tr>\n",
       "      <th>0</th>\n",
       "      <td>2016-01-01</td>\n",
       "      <td>201979088</td>\n",
       "    </tr>\n",
       "    <tr>\n",
       "      <th>1</th>\n",
       "      <td>2016-01-02</td>\n",
       "      <td>223095158</td>\n",
       "    </tr>\n",
       "    <tr>\n",
       "      <th>2</th>\n",
       "      <td>2016-01-03</td>\n",
       "      <td>233791442</td>\n",
       "    </tr>\n",
       "    <tr>\n",
       "      <th>3</th>\n",
       "      <td>2016-01-04</td>\n",
       "      <td>259684220</td>\n",
       "    </tr>\n",
       "    <tr>\n",
       "      <th>4</th>\n",
       "      <td>2016-01-05</td>\n",
       "      <td>267112490</td>\n",
       "    </tr>\n",
       "    <tr>\n",
       "      <th>...</th>\n",
       "      <td>...</td>\n",
       "      <td>...</td>\n",
       "    </tr>\n",
       "    <tr>\n",
       "      <th>1091</th>\n",
       "      <td>2018-12-27</td>\n",
       "      <td>241134980</td>\n",
       "    </tr>\n",
       "    <tr>\n",
       "      <th>1092</th>\n",
       "      <td>2018-12-28</td>\n",
       "      <td>234865040</td>\n",
       "    </tr>\n",
       "    <tr>\n",
       "      <th>1093</th>\n",
       "      <td>2018-12-29</td>\n",
       "      <td>195884690</td>\n",
       "    </tr>\n",
       "    <tr>\n",
       "      <th>1094</th>\n",
       "      <td>2018-12-30</td>\n",
       "      <td>125587958</td>\n",
       "    </tr>\n",
       "    <tr>\n",
       "      <th>1095</th>\n",
       "      <td>2018-12-31</td>\n",
       "      <td>110355560</td>\n",
       "    </tr>\n",
       "  </tbody>\n",
       "</table>\n",
       "<p>1096 rows × 2 columns</p>\n",
       "</div>"
      ],
      "text/plain": [
       "            date       hits\n",
       "0     2016-01-01  201979088\n",
       "1     2016-01-02  223095158\n",
       "2     2016-01-03  233791442\n",
       "3     2016-01-04  259684220\n",
       "4     2016-01-05  267112490\n",
       "...          ...        ...\n",
       "1091  2018-12-27  241134980\n",
       "1092  2018-12-28  234865040\n",
       "1093  2018-12-29  195884690\n",
       "1094  2018-12-30  125587958\n",
       "1095  2018-12-31  110355560\n",
       "\n",
       "[1096 rows x 2 columns]"
      ]
     },
     "execution_count": 3,
     "metadata": {},
     "output_type": "execute_result"
    }
   ],
   "source": [
    "data = pd.read_csv('rnnworkshowvkautumn2022/train.csv')\n",
    "data"
   ]
  },
  {
   "cell_type": "code",
   "execution_count": 4,
   "metadata": {
    "id": "6OVbPx2AuBnk"
   },
   "outputs": [],
   "source": [
    "data_train = read_set('rnnworkshowvkautumn2022/train.csv')\n",
    "data_test =  read_set('rnnworkshowvkautumn2022/derived.csv')\n",
    "data_sample = read_set('rnnworkshowvkautumn2022/sample_submission.csv')"
   ]
  },
  {
   "cell_type": "code",
   "execution_count": 5,
   "metadata": {
    "id": "lH--5idfuBnl",
    "outputId": "aecebe29-a1a7-4deb-e2df-d320e3f533f2"
   },
   "outputs": [
    {
     "data": {
      "text/html": [
       "<div>\n",
       "<style scoped>\n",
       "    .dataframe tbody tr th:only-of-type {\n",
       "        vertical-align: middle;\n",
       "    }\n",
       "\n",
       "    .dataframe tbody tr th {\n",
       "        vertical-align: top;\n",
       "    }\n",
       "\n",
       "    .dataframe thead th {\n",
       "        text-align: right;\n",
       "    }\n",
       "</style>\n",
       "<table border=\"1\" class=\"dataframe\">\n",
       "  <thead>\n",
       "    <tr style=\"text-align: right;\">\n",
       "      <th></th>\n",
       "      <th>value</th>\n",
       "    </tr>\n",
       "    <tr>\n",
       "      <th>date</th>\n",
       "      <th></th>\n",
       "    </tr>\n",
       "  </thead>\n",
       "  <tbody>\n",
       "    <tr>\n",
       "      <th>2016-01-01</th>\n",
       "      <td>201979088</td>\n",
       "    </tr>\n",
       "    <tr>\n",
       "      <th>2016-01-02</th>\n",
       "      <td>223095158</td>\n",
       "    </tr>\n",
       "    <tr>\n",
       "      <th>2016-01-03</th>\n",
       "      <td>233791442</td>\n",
       "    </tr>\n",
       "    <tr>\n",
       "      <th>2016-01-04</th>\n",
       "      <td>259684220</td>\n",
       "    </tr>\n",
       "    <tr>\n",
       "      <th>2016-01-05</th>\n",
       "      <td>267112490</td>\n",
       "    </tr>\n",
       "    <tr>\n",
       "      <th>...</th>\n",
       "      <td>...</td>\n",
       "    </tr>\n",
       "    <tr>\n",
       "      <th>2018-12-27</th>\n",
       "      <td>241134980</td>\n",
       "    </tr>\n",
       "    <tr>\n",
       "      <th>2018-12-28</th>\n",
       "      <td>234865040</td>\n",
       "    </tr>\n",
       "    <tr>\n",
       "      <th>2018-12-29</th>\n",
       "      <td>195884690</td>\n",
       "    </tr>\n",
       "    <tr>\n",
       "      <th>2018-12-30</th>\n",
       "      <td>125587958</td>\n",
       "    </tr>\n",
       "    <tr>\n",
       "      <th>2018-12-31</th>\n",
       "      <td>110355560</td>\n",
       "    </tr>\n",
       "  </tbody>\n",
       "</table>\n",
       "<p>1096 rows × 1 columns</p>\n",
       "</div>"
      ],
      "text/plain": [
       "                value\n",
       "date                 \n",
       "2016-01-01  201979088\n",
       "2016-01-02  223095158\n",
       "2016-01-03  233791442\n",
       "2016-01-04  259684220\n",
       "2016-01-05  267112490\n",
       "...               ...\n",
       "2018-12-27  241134980\n",
       "2018-12-28  234865040\n",
       "2018-12-29  195884690\n",
       "2018-12-30  125587958\n",
       "2018-12-31  110355560\n",
       "\n",
       "[1096 rows x 1 columns]"
      ]
     },
     "execution_count": 5,
     "metadata": {},
     "output_type": "execute_result"
    }
   ],
   "source": [
    "data_train"
   ]
  },
  {
   "cell_type": "code",
   "execution_count": 6,
   "metadata": {},
   "outputs": [
    {
     "data": {
      "text/html": [
       "<div>\n",
       "<style scoped>\n",
       "    .dataframe tbody tr th:only-of-type {\n",
       "        vertical-align: middle;\n",
       "    }\n",
       "\n",
       "    .dataframe tbody tr th {\n",
       "        vertical-align: top;\n",
       "    }\n",
       "\n",
       "    .dataframe thead th {\n",
       "        text-align: right;\n",
       "    }\n",
       "</style>\n",
       "<table border=\"1\" class=\"dataframe\">\n",
       "  <thead>\n",
       "    <tr style=\"text-align: right;\">\n",
       "      <th></th>\n",
       "      <th>value</th>\n",
       "    </tr>\n",
       "    <tr>\n",
       "      <th>date</th>\n",
       "      <th></th>\n",
       "    </tr>\n",
       "  </thead>\n",
       "  <tbody>\n",
       "    <tr>\n",
       "      <th>2019-01-01</th>\n",
       "      <td>108624560</td>\n",
       "    </tr>\n",
       "    <tr>\n",
       "      <th>2019-01-02</th>\n",
       "      <td>130814504</td>\n",
       "    </tr>\n",
       "    <tr>\n",
       "      <th>2019-01-03</th>\n",
       "      <td>147999398</td>\n",
       "    </tr>\n",
       "    <tr>\n",
       "      <th>2019-01-04</th>\n",
       "      <td>148669766</td>\n",
       "    </tr>\n",
       "    <tr>\n",
       "      <th>2019-01-05</th>\n",
       "      <td>131564540</td>\n",
       "    </tr>\n",
       "    <tr>\n",
       "      <th>...</th>\n",
       "      <td>...</td>\n",
       "    </tr>\n",
       "    <tr>\n",
       "      <th>2019-12-27</th>\n",
       "      <td>248681252</td>\n",
       "    </tr>\n",
       "    <tr>\n",
       "      <th>2019-12-28</th>\n",
       "      <td>139485986</td>\n",
       "    </tr>\n",
       "    <tr>\n",
       "      <th>2019-12-29</th>\n",
       "      <td>122282606</td>\n",
       "    </tr>\n",
       "    <tr>\n",
       "      <th>2019-12-30</th>\n",
       "      <td>225638432</td>\n",
       "    </tr>\n",
       "    <tr>\n",
       "      <th>2019-12-31</th>\n",
       "      <td>130522880</td>\n",
       "    </tr>\n",
       "  </tbody>\n",
       "</table>\n",
       "<p>365 rows × 1 columns</p>\n",
       "</div>"
      ],
      "text/plain": [
       "                value\n",
       "date                 \n",
       "2019-01-01  108624560\n",
       "2019-01-02  130814504\n",
       "2019-01-03  147999398\n",
       "2019-01-04  148669766\n",
       "2019-01-05  131564540\n",
       "...               ...\n",
       "2019-12-27  248681252\n",
       "2019-12-28  139485986\n",
       "2019-12-29  122282606\n",
       "2019-12-30  225638432\n",
       "2019-12-31  130522880\n",
       "\n",
       "[365 rows x 1 columns]"
      ]
     },
     "execution_count": 6,
     "metadata": {},
     "output_type": "execute_result"
    }
   ],
   "source": [
    "data_test"
   ]
  },
  {
   "cell_type": "markdown",
   "metadata": {
    "id": "iIq5yUNbuBnl"
   },
   "source": [
    "### Проверим наши данные, что мы загрузили"
   ]
  },
  {
   "cell_type": "code",
   "execution_count": 7,
   "metadata": {
    "id": "9yIzV1K6uBnm",
    "outputId": "cb19d7e8-9110-44ea-f8d0-c7a0da256e87"
   },
   "outputs": [
    {
     "name": "stdout",
     "output_type": "stream",
     "text": [
      "<class 'pandas.core.frame.DataFrame'>\n",
      "DatetimeIndex: 1096 entries, 2016-01-01 to 2018-12-31\n",
      "Data columns (total 1 columns):\n",
      " #   Column  Non-Null Count  Dtype\n",
      "---  ------  --------------  -----\n",
      " 0   value   1096 non-null   int64\n",
      "dtypes: int64(1)\n",
      "memory usage: 17.1 KB\n",
      "None\n",
      "<class 'pandas.core.frame.DataFrame'>\n",
      "DatetimeIndex: 365 entries, 2019-01-01 to 2019-12-31\n",
      "Data columns (total 1 columns):\n",
      " #   Column  Non-Null Count  Dtype\n",
      "---  ------  --------------  -----\n",
      " 0   value   365 non-null    int64\n",
      "dtypes: int64(1)\n",
      "memory usage: 5.7 KB\n",
      "None\n",
      "<class 'pandas.core.frame.DataFrame'>\n",
      "DatetimeIndex: 365 entries, 2019-01-01 to 2019-12-31\n",
      "Data columns (total 1 columns):\n",
      " #   Column  Non-Null Count  Dtype\n",
      "---  ------  --------------  -----\n",
      " 0   value   365 non-null    int64\n",
      "dtypes: int64(1)\n",
      "memory usage: 5.7 KB\n",
      "None\n"
     ]
    }
   ],
   "source": [
    "print( data_train.info() )\n",
    "print( data_test.info() )\n",
    "print( data_sample.info() )"
   ]
  },
  {
   "cell_type": "code",
   "execution_count": 8,
   "metadata": {
    "id": "xjLwJ4x2uBnm",
    "outputId": "0d735330-e912-427b-f774-eb2210848c11"
   },
   "outputs": [
    {
     "data": {
      "text/html": [
       "<div>\n",
       "<style scoped>\n",
       "    .dataframe tbody tr th:only-of-type {\n",
       "        vertical-align: middle;\n",
       "    }\n",
       "\n",
       "    .dataframe tbody tr th {\n",
       "        vertical-align: top;\n",
       "    }\n",
       "\n",
       "    .dataframe thead th {\n",
       "        text-align: right;\n",
       "    }\n",
       "</style>\n",
       "<table border=\"1\" class=\"dataframe\">\n",
       "  <thead>\n",
       "    <tr style=\"text-align: right;\">\n",
       "      <th></th>\n",
       "      <th>value</th>\n",
       "    </tr>\n",
       "  </thead>\n",
       "  <tbody>\n",
       "    <tr>\n",
       "      <th>count</th>\n",
       "      <td>1.096000e+03</td>\n",
       "    </tr>\n",
       "    <tr>\n",
       "      <th>mean</th>\n",
       "      <td>2.792255e+08</td>\n",
       "    </tr>\n",
       "    <tr>\n",
       "      <th>std</th>\n",
       "      <td>7.677884e+07</td>\n",
       "    </tr>\n",
       "    <tr>\n",
       "      <th>min</th>\n",
       "      <td>1.103556e+08</td>\n",
       "    </tr>\n",
       "    <tr>\n",
       "      <th>25%</th>\n",
       "      <td>2.317301e+08</td>\n",
       "    </tr>\n",
       "    <tr>\n",
       "      <th>50%</th>\n",
       "      <td>2.791131e+08</td>\n",
       "    </tr>\n",
       "    <tr>\n",
       "      <th>75%</th>\n",
       "      <td>3.287730e+08</td>\n",
       "    </tr>\n",
       "    <tr>\n",
       "      <th>max</th>\n",
       "      <td>4.550733e+08</td>\n",
       "    </tr>\n",
       "  </tbody>\n",
       "</table>\n",
       "</div>"
      ],
      "text/plain": [
       "              value\n",
       "count  1.096000e+03\n",
       "mean   2.792255e+08\n",
       "std    7.677884e+07\n",
       "min    1.103556e+08\n",
       "25%    2.317301e+08\n",
       "50%    2.791131e+08\n",
       "75%    3.287730e+08\n",
       "max    4.550733e+08"
      ]
     },
     "execution_count": 8,
     "metadata": {},
     "output_type": "execute_result"
    }
   ],
   "source": [
    "data_train.describe()"
   ]
  },
  {
   "cell_type": "code",
   "execution_count": 9,
   "metadata": {
    "id": "2MjZPYYtuBnn",
    "outputId": "8f8981fa-32fc-4cbc-9af1-1ded3bd95c94"
   },
   "outputs": [
    {
     "data": {
      "text/html": [
       "<div>\n",
       "<style scoped>\n",
       "    .dataframe tbody tr th:only-of-type {\n",
       "        vertical-align: middle;\n",
       "    }\n",
       "\n",
       "    .dataframe tbody tr th {\n",
       "        vertical-align: top;\n",
       "    }\n",
       "\n",
       "    .dataframe thead th {\n",
       "        text-align: right;\n",
       "    }\n",
       "</style>\n",
       "<table border=\"1\" class=\"dataframe\">\n",
       "  <thead>\n",
       "    <tr style=\"text-align: right;\">\n",
       "      <th></th>\n",
       "      <th>value</th>\n",
       "    </tr>\n",
       "  </thead>\n",
       "  <tbody>\n",
       "    <tr>\n",
       "      <th>count</th>\n",
       "      <td>3.650000e+02</td>\n",
       "    </tr>\n",
       "    <tr>\n",
       "      <th>mean</th>\n",
       "      <td>2.250691e+08</td>\n",
       "    </tr>\n",
       "    <tr>\n",
       "      <th>std</th>\n",
       "      <td>6.798229e+07</td>\n",
       "    </tr>\n",
       "    <tr>\n",
       "      <th>min</th>\n",
       "      <td>1.055197e+08</td>\n",
       "    </tr>\n",
       "    <tr>\n",
       "      <th>25%</th>\n",
       "      <td>1.467913e+08</td>\n",
       "    </tr>\n",
       "    <tr>\n",
       "      <th>50%</th>\n",
       "      <td>2.525773e+08</td>\n",
       "    </tr>\n",
       "    <tr>\n",
       "      <th>75%</th>\n",
       "      <td>2.724223e+08</td>\n",
       "    </tr>\n",
       "    <tr>\n",
       "      <th>max</th>\n",
       "      <td>3.410300e+08</td>\n",
       "    </tr>\n",
       "  </tbody>\n",
       "</table>\n",
       "</div>"
      ],
      "text/plain": [
       "              value\n",
       "count  3.650000e+02\n",
       "mean   2.250691e+08\n",
       "std    6.798229e+07\n",
       "min    1.055197e+08\n",
       "25%    1.467913e+08\n",
       "50%    2.525773e+08\n",
       "75%    2.724223e+08\n",
       "max    3.410300e+08"
      ]
     },
     "execution_count": 9,
     "metadata": {},
     "output_type": "execute_result"
    }
   ],
   "source": [
    "data_test.describe()"
   ]
  },
  {
   "cell_type": "code",
   "execution_count": 10,
   "metadata": {},
   "outputs": [
    {
     "data": {
      "text/html": [
       "<div>\n",
       "<style scoped>\n",
       "    .dataframe tbody tr th:only-of-type {\n",
       "        vertical-align: middle;\n",
       "    }\n",
       "\n",
       "    .dataframe tbody tr th {\n",
       "        vertical-align: top;\n",
       "    }\n",
       "\n",
       "    .dataframe thead th {\n",
       "        text-align: right;\n",
       "    }\n",
       "</style>\n",
       "<table border=\"1\" class=\"dataframe\">\n",
       "  <thead>\n",
       "    <tr style=\"text-align: right;\">\n",
       "      <th></th>\n",
       "      <th>value</th>\n",
       "    </tr>\n",
       "    <tr>\n",
       "      <th>date</th>\n",
       "      <th></th>\n",
       "    </tr>\n",
       "  </thead>\n",
       "  <tbody>\n",
       "    <tr>\n",
       "      <th>2016-01-01</th>\n",
       "      <td>201979088</td>\n",
       "    </tr>\n",
       "    <tr>\n",
       "      <th>2016-01-02</th>\n",
       "      <td>223095158</td>\n",
       "    </tr>\n",
       "    <tr>\n",
       "      <th>2016-01-03</th>\n",
       "      <td>233791442</td>\n",
       "    </tr>\n",
       "    <tr>\n",
       "      <th>2016-01-04</th>\n",
       "      <td>259684220</td>\n",
       "    </tr>\n",
       "    <tr>\n",
       "      <th>2016-01-05</th>\n",
       "      <td>267112490</td>\n",
       "    </tr>\n",
       "    <tr>\n",
       "      <th>...</th>\n",
       "      <td>...</td>\n",
       "    </tr>\n",
       "    <tr>\n",
       "      <th>2018-12-27</th>\n",
       "      <td>241134980</td>\n",
       "    </tr>\n",
       "    <tr>\n",
       "      <th>2018-12-28</th>\n",
       "      <td>234865040</td>\n",
       "    </tr>\n",
       "    <tr>\n",
       "      <th>2018-12-29</th>\n",
       "      <td>195884690</td>\n",
       "    </tr>\n",
       "    <tr>\n",
       "      <th>2018-12-30</th>\n",
       "      <td>125587958</td>\n",
       "    </tr>\n",
       "    <tr>\n",
       "      <th>2018-12-31</th>\n",
       "      <td>110355560</td>\n",
       "    </tr>\n",
       "  </tbody>\n",
       "</table>\n",
       "<p>1096 rows × 1 columns</p>\n",
       "</div>"
      ],
      "text/plain": [
       "                value\n",
       "date                 \n",
       "2016-01-01  201979088\n",
       "2016-01-02  223095158\n",
       "2016-01-03  233791442\n",
       "2016-01-04  259684220\n",
       "2016-01-05  267112490\n",
       "...               ...\n",
       "2018-12-27  241134980\n",
       "2018-12-28  234865040\n",
       "2018-12-29  195884690\n",
       "2018-12-30  125587958\n",
       "2018-12-31  110355560\n",
       "\n",
       "[1096 rows x 1 columns]"
      ]
     },
     "execution_count": 10,
     "metadata": {},
     "output_type": "execute_result"
    }
   ],
   "source": [
    "data_train"
   ]
  },
  {
   "cell_type": "code",
   "execution_count": 11,
   "metadata": {
    "id": "E7FsVj5XuBnn",
    "outputId": "d0c9e11e-5336-4a07-f725-5cfe0a3180b1"
   },
   "outputs": [
    {
     "data": {
      "text/html": [
       "<div>\n",
       "<style scoped>\n",
       "    .dataframe tbody tr th:only-of-type {\n",
       "        vertical-align: middle;\n",
       "    }\n",
       "\n",
       "    .dataframe tbody tr th {\n",
       "        vertical-align: top;\n",
       "    }\n",
       "\n",
       "    .dataframe thead th {\n",
       "        text-align: right;\n",
       "    }\n",
       "</style>\n",
       "<table border=\"1\" class=\"dataframe\">\n",
       "  <thead>\n",
       "    <tr style=\"text-align: right;\">\n",
       "      <th></th>\n",
       "      <th>value</th>\n",
       "    </tr>\n",
       "  </thead>\n",
       "  <tbody>\n",
       "    <tr>\n",
       "      <th>count</th>\n",
       "      <td>365.0</td>\n",
       "    </tr>\n",
       "    <tr>\n",
       "      <th>mean</th>\n",
       "      <td>110355560.0</td>\n",
       "    </tr>\n",
       "    <tr>\n",
       "      <th>std</th>\n",
       "      <td>0.0</td>\n",
       "    </tr>\n",
       "    <tr>\n",
       "      <th>min</th>\n",
       "      <td>110355560.0</td>\n",
       "    </tr>\n",
       "    <tr>\n",
       "      <th>25%</th>\n",
       "      <td>110355560.0</td>\n",
       "    </tr>\n",
       "    <tr>\n",
       "      <th>50%</th>\n",
       "      <td>110355560.0</td>\n",
       "    </tr>\n",
       "    <tr>\n",
       "      <th>75%</th>\n",
       "      <td>110355560.0</td>\n",
       "    </tr>\n",
       "    <tr>\n",
       "      <th>max</th>\n",
       "      <td>110355560.0</td>\n",
       "    </tr>\n",
       "  </tbody>\n",
       "</table>\n",
       "</div>"
      ],
      "text/plain": [
       "             value\n",
       "count        365.0\n",
       "mean   110355560.0\n",
       "std            0.0\n",
       "min    110355560.0\n",
       "25%    110355560.0\n",
       "50%    110355560.0\n",
       "75%    110355560.0\n",
       "max    110355560.0"
      ]
     },
     "execution_count": 11,
     "metadata": {},
     "output_type": "execute_result"
    }
   ],
   "source": [
    "data_sample.describe()"
   ]
  },
  {
   "cell_type": "markdown",
   "metadata": {
    "id": "9Rp9XYUiuBnn"
   },
   "source": [
    "## Графики наших временных последовательностей"
   ]
  },
  {
   "cell_type": "code",
   "execution_count": 12,
   "metadata": {
    "id": "XJdvc9jquBno",
    "outputId": "89a76f32-8a64-4c3a-bd6b-923535f22dc1"
   },
   "outputs": [
    {
     "data": {
      "image/png": "[encoded data removed]",
      "text/plain": [
       "<Figure size 640x480 with 1 Axes>"
      ]
     },
     "metadata": {},
     "output_type": "display_data"
    }
   ],
   "source": [
    "plt.figure()\n",
    "data_train['value'].plot(kind = 'line')\n",
    "data_test['value'].plot(kind = 'line')\n",
    "data_sample['value'].plot(kind = 'line')\n",
    "plt.show()"
   ]
  },
  {
   "cell_type": "markdown",
   "metadata": {
    "id": "K7dCXMqvuBno"
   },
   "source": [
    "## Статистическая модель [ARIMA](https://ru.wikipedia.org/wiki/ARIMA)\n"
   ]
  },
  {
   "cell_type": "code",
   "execution_count": 14,
   "metadata": {
    "id": "rDNpiApvuBno",
    "outputId": "6619be94-2603-4d5c-dc30-99fe533c478e"
   },
   "outputs": [
    {
     "name": "stdout",
     "output_type": "stream",
     "text": [
      "Performing stepwise search to minimize aic\n",
      " ARIMA(2,0,2)(1,0,1)[4] intercept   : AIC=42026.193, Time=2.72 sec\n",
      " ARIMA(0,0,0)(0,0,0)[4] intercept   : AIC=42912.228, Time=0.06 sec\n",
      " ARIMA(1,0,0)(1,0,0)[4] intercept   : AIC=42352.663, Time=0.84 sec\n",
      " ARIMA(0,0,1)(0,0,1)[4] intercept   : AIC=42271.764, Time=0.38 sec\n",
      " ARIMA(0,0,0)(0,0,0)[4]             : AIC=45821.113, Time=0.03 sec\n",
      " ARIMA(2,0,2)(0,0,1)[4] intercept   : AIC=42138.118, Time=1.17 sec\n",
      " ARIMA(2,0,2)(1,0,0)[4] intercept   : AIC=42130.455, Time=2.53 sec\n",
      " ARIMA(2,0,2)(2,0,1)[4] intercept   : AIC=41842.461, Time=5.58 sec\n",
      " ARIMA(2,0,2)(2,0,0)[4] intercept   : AIC=42088.126, Time=3.21 sec\n",
      " ARIMA(2,0,2)(2,0,2)[4] intercept   : AIC=41829.133, Time=5.93 sec\n",
      " ARIMA(2,0,2)(1,0,2)[4] intercept   : AIC=42095.534, Time=6.51 sec\n",
      " ARIMA(1,0,2)(2,0,2)[4] intercept   : AIC=42117.810, Time=9.11 sec\n",
      " ARIMA(2,0,1)(2,0,2)[4] intercept   : AIC=42107.831, Time=4.37 sec\n",
      " ARIMA(3,0,2)(2,0,2)[4] intercept   : AIC=41841.297, Time=8.07 sec\n",
      " ARIMA(2,0,3)(2,0,2)[4] intercept   : AIC=41563.567, Time=8.16 sec\n",
      " ARIMA(2,0,3)(1,0,2)[4] intercept   : AIC=41589.932, Time=8.19 sec\n",
      " ARIMA(2,0,3)(2,0,1)[4] intercept   : AIC=41541.091, Time=6.42 sec\n",
      " ARIMA(2,0,3)(1,0,1)[4] intercept   : AIC=41537.970, Time=4.40 sec\n",
      " ARIMA(2,0,3)(0,0,1)[4] intercept   : AIC=42141.775, Time=1.75 sec\n",
      " ARIMA(2,0,3)(1,0,0)[4] intercept   : AIC=41594.139, Time=3.18 sec\n",
      " ARIMA(2,0,3)(0,0,0)[4] intercept   : AIC=42155.765, Time=0.89 sec\n",
      " ARIMA(2,0,3)(0,0,2)[4] intercept   : AIC=42068.347, Time=3.94 sec\n",
      " ARIMA(2,0,3)(2,0,0)[4] intercept   : AIC=41564.356, Time=4.77 sec\n",
      " ARIMA(1,0,3)(1,0,1)[4] intercept   : AIC=42193.086, Time=4.21 sec\n",
      " ARIMA(3,0,3)(1,0,1)[4] intercept   : AIC=inf, Time=5.21 sec\n",
      " ARIMA(1,0,2)(1,0,1)[4] intercept   : AIC=42138.508, Time=1.54 sec\n",
      " ARIMA(3,0,2)(1,0,1)[4] intercept   : AIC=inf, Time=3.32 sec\n",
      " ARIMA(2,0,3)(1,0,1)[4]             : AIC=41936.072, Time=3.69 sec\n",
      "\n",
      "Best model:  ARIMA(2,0,3)(1,0,1)[4] intercept\n",
      "Total fit time: 110.330 seconds\n"
     ]
    }
   ],
   "source": [
    "# обучаем модель\n",
    "arima_model=model = pm.auto_arima(data_train, seasonal = True,m = 4,test='adf',error_action='ignore',  \n",
    "                           suppress_warnings=True,\n",
    "                      stepwise=True, trace=True)"
   ]
  },
  {
   "cell_type": "code",
   "execution_count": 15,
   "metadata": {
    "id": "_08RxylDuBnp"
   },
   "outputs": [],
   "source": [
    "prediction = pd.DataFrame(model.predict(n_periods = int(data_test.size)), data_test.index)"
   ]
  },
  {
   "cell_type": "code",
   "execution_count": 16,
   "metadata": {
    "id": "vQ71s0gYuBnp",
    "outputId": "7872933b-49a4-45cf-db5b-fd07ffe3baeb"
   },
   "outputs": [
    {
     "data": {
      "text/html": [
       "<div>\n",
       "<style scoped>\n",
       "    .dataframe tbody tr th:only-of-type {\n",
       "        vertical-align: middle;\n",
       "    }\n",
       "\n",
       "    .dataframe tbody tr th {\n",
       "        vertical-align: top;\n",
       "    }\n",
       "\n",
       "    .dataframe thead th {\n",
       "        text-align: right;\n",
       "    }\n",
       "</style>\n",
       "<table border=\"1\" class=\"dataframe\">\n",
       "  <thead>\n",
       "    <tr style=\"text-align: right;\">\n",
       "      <th></th>\n",
       "      <th>0</th>\n",
       "    </tr>\n",
       "    <tr>\n",
       "      <th>date</th>\n",
       "      <th></th>\n",
       "    </tr>\n",
       "  </thead>\n",
       "  <tbody>\n",
       "    <tr>\n",
       "      <th>2019-01-01</th>\n",
       "      <td>2.365693e+08</td>\n",
       "    </tr>\n",
       "    <tr>\n",
       "      <th>2019-01-02</th>\n",
       "      <td>2.924234e+08</td>\n",
       "    </tr>\n",
       "    <tr>\n",
       "      <th>2019-01-03</th>\n",
       "      <td>2.378438e+08</td>\n",
       "    </tr>\n",
       "    <tr>\n",
       "      <th>2019-01-04</th>\n",
       "      <td>1.590419e+08</td>\n",
       "    </tr>\n",
       "    <tr>\n",
       "      <th>2019-01-05</th>\n",
       "      <td>2.126749e+08</td>\n",
       "    </tr>\n",
       "    <tr>\n",
       "      <th>...</th>\n",
       "      <td>...</td>\n",
       "    </tr>\n",
       "    <tr>\n",
       "      <th>2019-12-27</th>\n",
       "      <td>2.784914e+08</td>\n",
       "    </tr>\n",
       "    <tr>\n",
       "      <th>2019-12-28</th>\n",
       "      <td>2.730077e+08</td>\n",
       "    </tr>\n",
       "    <tr>\n",
       "      <th>2019-12-29</th>\n",
       "      <td>2.703278e+08</td>\n",
       "    </tr>\n",
       "    <tr>\n",
       "      <th>2019-12-30</th>\n",
       "      <td>2.724225e+08</td>\n",
       "    </tr>\n",
       "    <tr>\n",
       "      <th>2019-12-31</th>\n",
       "      <td>2.776687e+08</td>\n",
       "    </tr>\n",
       "  </tbody>\n",
       "</table>\n",
       "<p>365 rows × 1 columns</p>\n",
       "</div>"
      ],
      "text/plain": [
       "                       0\n",
       "date                    \n",
       "2019-01-01  2.365693e+08\n",
       "2019-01-02  2.924234e+08\n",
       "2019-01-03  2.378438e+08\n",
       "2019-01-04  1.590419e+08\n",
       "2019-01-05  2.126749e+08\n",
       "...                  ...\n",
       "2019-12-27  2.784914e+08\n",
       "2019-12-28  2.730077e+08\n",
       "2019-12-29  2.703278e+08\n",
       "2019-12-30  2.724225e+08\n",
       "2019-12-31  2.776687e+08\n",
       "\n",
       "[365 rows x 1 columns]"
      ]
     },
     "execution_count": 16,
     "metadata": {},
     "output_type": "execute_result"
    }
   ],
   "source": [
    "prediction"
   ]
  },
  {
   "cell_type": "code",
   "execution_count": 17,
   "metadata": {
    "id": "5QmYi5qKuBnp"
   },
   "outputs": [],
   "source": [
    "prediction = prediction.rename(columns = {0:'value'})"
   ]
  },
  {
   "cell_type": "markdown",
   "metadata": {
    "id": "-r6Ohi40uBnp"
   },
   "source": [
    "смотрим, что она нам предсказала"
   ]
  },
  {
   "cell_type": "code",
   "execution_count": 18,
   "metadata": {
    "id": "Q2SKMROIuBnq",
    "outputId": "94595eeb-268e-41da-e9aa-dcb0c9bef2ff"
   },
   "outputs": [
    {
     "data": {
      "image/png": "[encoded data removed]",
      "text/plain": [
       "<Figure size 640x480 with 1 Axes>"
      ]
     },
     "metadata": {},
     "output_type": "display_data"
    }
   ],
   "source": [
    "plt.figure()\n",
    "data_train['value'].plot(kind = 'line')\n",
    "data_test['value'].plot(kind = 'line')\n",
    "# plt.plot(data_forecaste, label = \"Prediction\")\n",
    "prediction['value'].plot(kind = 'line')\n",
    "plt.show()"
   ]
  },
  {
   "cell_type": "markdown",
   "metadata": {
    "id": "u11PbAj5uBnq"
   },
   "source": [
    "### Функция подсчета метрик для конкурса"
   ]
  },
  {
   "cell_type": "code",
   "execution_count": 13,
   "metadata": {
    "id": "bgRyXaSwuBnq"
   },
   "outputs": [],
   "source": [
    "def MAPE(y_true, y_pred):\n",
    "    mape = np.abs(y_pred - y_true) / np.maximum(np.abs(y_true), 1e-6)\n",
    "    mape  = np.average(mape) * 100\n",
    "    return mape"
   ]
  },
  {
   "cell_type": "markdown",
   "metadata": {
    "id": "gTiHTMO_uBnq"
   },
   "source": [
    "### MAPE для ARIMA и тестового сабмишена"
   ]
  },
  {
   "cell_type": "code",
   "execution_count": 20,
   "metadata": {
    "id": "qfBVIBa7uBnr",
    "outputId": "2072eb79-3b44-4aef-a4ed-f9d9546419ae"
   },
   "outputs": [
    {
     "data": {
      "text/plain": [
       "38.57035121292112"
      ]
     },
     "execution_count": 20,
     "metadata": {},
     "output_type": "execute_result"
    }
   ],
   "source": [
    "MAPE(data_test, prediction)"
   ]
  },
  {
   "cell_type": "code",
   "execution_count": 14,
   "metadata": {
    "id": "JnCLujxWuBnr",
    "outputId": "c2e79f5f-e18a-4f74-9cef-2121941fcfb2"
   },
   "outputs": [
    {
     "data": {
      "text/plain": [
       "44.81735178659308"
      ]
     },
     "execution_count": 14,
     "metadata": {},
     "output_type": "execute_result"
    }
   ],
   "source": [
    "MAPE(data_test, data_sample)"
   ]
  },
  {
   "cell_type": "markdown",
   "metadata": {
    "id": "pwvGlHhhuBnr"
   },
   "source": [
    "## Из пандас строим датасет"
   ]
  },
  {
   "cell_type": "code",
   "execution_count": 15,
   "metadata": {
    "id": "J9wZ3_97uBnr"
   },
   "outputs": [
    {
     "name": "stderr",
     "output_type": "stream",
     "text": [
      "/home/sklaa00/.local/lib/python3.8/site-packages/numpy/core/fromnumeric.py:3472: FutureWarning: In a future version, DataFrame.mean(axis=None) will return a scalar mean over the entire DataFrame. To retain the old behavior, use 'frame.mean(axis=0)' or just 'frame.mean()'\n",
      "  return mean(axis=axis, dtype=dtype, out=out, **kwargs)\n"
     ]
    }
   ],
   "source": [
    "class Stats:\n",
    "    def __init__(self, dataset):\n",
    "        self.mean = np.mean(dataset)\n",
    "        self.std = np.std(dataset)\n",
    "        self.data = (dataset - self.mean) / self.std \n",
    "\n",
    "stats = Stats(data_train)"
   ]
  },
  {
   "cell_type": "code",
   "execution_count": 16,
   "metadata": {
    "id": "2rSnmhoMuBnr"
   },
   "outputs": [],
   "source": [
    "class TSDataset(Dataset):\n",
    "    \n",
    "    def __init__(self, data, seq_len):\n",
    "        super().__init__()\n",
    "        self._len = len(data) - seq_len + 1 \n",
    "        self.mean = stats.mean\n",
    "        self.std = stats.std\n",
    "        self.data = (data - self.mean) / self.std \n",
    "        self.seq_len = seq_len\n",
    "        \n",
    "    def __len__(self):\n",
    "        return self._len\n",
    "    \n",
    "    def __getitem__(self, idx):\n",
    "        d = self.data[idx:idx + self.seq_len]\n",
    "        targets = []\n",
    "        days   = []\n",
    "        months = []\n",
    "        year = []\n",
    "        for row in  d.iterrows():\n",
    "            targets += [ row[1]['value'] ]\n",
    "            days += [ row[0].day ]\n",
    "            months += [row[0].month]\n",
    "            year += [row[0].year]\n",
    "            \n",
    "        return torch.LongTensor(days), \\\n",
    "               torch.LongTensor(months), \\\n",
    "               torch.LongTensor(year), \\\n",
    "               torch.FloatTensor(targets)"
   ]
  },
  {
   "cell_type": "code",
   "execution_count": 17,
   "metadata": {
    "id": "BgarH7z3uBns",
    "outputId": "e773aa2b-8110-4002-ffc0-f4659fcec4c4"
   },
   "outputs": [
    {
     "name": "stdout",
     "output_type": "stream",
     "text": [
      "1077\n"
     ]
    }
   ],
   "source": [
    "ds_train = TSDataset(data_train, 20) \n",
    "ds_test  = TSDataset(data_test, 20)\n",
    "print(len(ds_train))\n"
   ]
  },
  {
   "cell_type": "markdown",
   "metadata": {
    "id": "5mJ3F371uBns"
   },
   "source": [
    "## Теперь нужно определить нашу модель "
   ]
  },
  {
   "cell_type": "code",
   "execution_count": 18,
   "metadata": {},
   "outputs": [],
   "source": [
    "def seed_everything(seed: int):\n",
    "    import random, os\n",
    "    import numpy as np\n",
    "    import torch\n",
    "    \n",
    "    random.seed(seed)\n",
    "    os.environ['PYTHONHASHSEED'] = str(seed)\n",
    "    np.random.seed(seed)\n",
    "    torch.manual_seed(seed)\n",
    "    torch.cuda.manual_seed(seed)\n",
    "    torch.backends.cudnn.deterministic = True\n",
    "    torch.backends.cudnn.benchmark = True\n",
    "    \n",
    "seed_everything(777)"
   ]
  },
  {
   "cell_type": "code",
   "execution_count": 19,
   "metadata": {
    "id": "ofufupBBuBns"
   },
   "outputs": [],
   "source": [
    "class TimeSeriesModel(nn.Module):\n",
    "        def __init__(self, hidden_size: int, input_sizes: tuple):            \n",
    "            super().__init__()\n",
    "            self.mon_emb = nn.Embedding(12+1, input_sizes[0])\n",
    "            self.day_emb = nn.Embedding(31+1, input_sizes[1])\n",
    "\n",
    "            self._rnn = nn.LSTM(input_sizes[0] + input_sizes[1]+1,  hidden_size,  batch_first=True)\n",
    "            self._output = nn.Linear(hidden_size, 1)\n",
    "\n",
    "        def forward(self, batch, ctx = None):\n",
    "            days, mons, _, targets = batch\n",
    "            mon_tensor = self.mon_emb(mons)\n",
    "            day_tensor = self.day_emb(days)\n",
    "            rnn_input  = torch.cat([mon_tensor, day_tensor], dim=-1)\n",
    "            targets = targets.unsqueeze(-1)\n",
    "            rnn_input = torch.cat([rnn_input, targets ], dim=-1)\n",
    "            rnn_input = rnn_input[:, :-1, :] if ctx is None else rnn_input\n",
    "            output, ctx = self._rnn(rnn_input, ctx)\n",
    "            output = self._output(output).squeeze()\n",
    "            return output, ctx        "
   ]
  },
  {
   "cell_type": "markdown",
   "metadata": {
    "id": "5sMJF-D9uBns"
   },
   "source": [
    "### Определяем даталоадеры для теста и трейна"
   ]
  },
  {
   "cell_type": "code",
   "execution_count": 20,
   "metadata": {
    "id": "jQy6HEiduBns"
   },
   "outputs": [],
   "source": [
    "dl_train = DataLoader(ds_train, 8 , True)\n",
    "dl_test = DataLoader(ds_test, 8 , False)"
   ]
  },
  {
   "cell_type": "code",
   "execution_count": 21,
   "metadata": {
    "id": "3GSKIn5FuBnt"
   },
   "outputs": [],
   "source": [
    "series_model = TimeSeriesModel(32, (4,4))"
   ]
  },
  {
   "cell_type": "code",
   "execution_count": 22,
   "metadata": {},
   "outputs": [
    {
     "data": {
      "text/plain": [
       "TimeSeriesModel(\n",
       "  (mon_emb): Embedding(13, 4)\n",
       "  (day_emb): Embedding(32, 4)\n",
       "  (_rnn): LSTM(9, 32, batch_first=True)\n",
       "  (_output): Linear(in_features=32, out_features=1, bias=True)\n",
       ")"
      ]
     },
     "execution_count": 22,
     "metadata": {},
     "output_type": "execute_result"
    }
   ],
   "source": [
    "series_model"
   ]
  },
  {
   "cell_type": "code",
   "execution_count": 23,
   "metadata": {},
   "outputs": [],
   "source": [
    "loss = nn.L1Loss()\n",
    "optimizer = Adam(series_model.parameters(), lr=5e-4)"
   ]
  },
  {
   "cell_type": "code",
   "execution_count": 24,
   "metadata": {},
   "outputs": [],
   "source": [
    "import os\n",
    "os.environ['TF_CPP_MIN_LOG_LEVEL'] = '2'"
   ]
  },
  {
   "cell_type": "code",
   "execution_count": 25,
   "metadata": {
    "id": "2cO-DepLuBnt"
   },
   "outputs": [],
   "source": [
    "# инициализируем тензорборд, для вывода графиков\n",
    "writer = SummaryWriter(log_dir='./tensor_board')"
   ]
  },
  {
   "cell_type": "markdown",
   "metadata": {
    "id": "FGgpY23JuBnt"
   },
   "source": [
    "### Обучаем модель"
   ]
  },
  {
   "cell_type": "code",
   "execution_count": 26,
   "metadata": {
    "id": "saddmCO5uBnt"
   },
   "outputs": [],
   "source": [
    "global_epoch = 0\n",
    "global_iter = 0"
   ]
  },
  {
   "cell_type": "code",
   "execution_count": 27,
   "metadata": {
    "id": "d82IPrHNuBnt"
   },
   "outputs": [],
   "source": [
    "def test_model(epoch):\n",
    "    test_iter  = tqdm(dl_test)\n",
    "    sum_loss = 0\n",
    "    num_batches = 0\n",
    "    for i, batch in enumerate(test_iter):\n",
    "        # Чтобы сохранялась временная зависимость\n",
    "        # для предсказания таргет должен быть смешен на один временной шаг\n",
    "        # относительно входа модели\n",
    "        target = batch[-1][:, 1:]\n",
    "        result, _ = series_model(batch)\n",
    "        batch_loss = loss(result, target)\n",
    "        sum_loss += batch_loss\n",
    "        num_batches += 1\n",
    "    sum_loss /= num_batches\n",
    "    writer.add_scalar('Loss/val', sum_loss , epoch)\n",
    "    return sum_loss"
   ]
  },
  {
   "cell_type": "code",
   "execution_count": 28,
   "metadata": {
    "id": "qZbbIF7OuBnu",
    "outputId": "cae3ce31-4945-47e5-c483-c03c468fa939",
    "scrolled": true
   },
   "outputs": [
    {
     "name": "stderr",
     "output_type": "stream",
     "text": [
      "Epoch: 0000, Iter Loss: 0.6079: 100%|██████████| 135/135 [00:09<00:00, 14.36it/s]\n",
      "100%|██████████| 44/44 [00:02<00:00, 16.69it/s]\n",
      "Epoch: 0001, Iter Loss: 0.6584: 100%|██████████| 135/135 [00:07<00:00, 18.21it/s]\n",
      "100%|██████████| 44/44 [00:00<00:00, 47.14it/s]\n",
      "Epoch: 0002, Iter Loss: 0.5683: 100%|██████████| 135/135 [00:07<00:00, 18.44it/s]\n",
      "100%|██████████| 44/44 [00:01<00:00, 36.06it/s]\n",
      "Epoch: 0003, Iter Loss: 0.4872: 100%|██████████| 135/135 [00:06<00:00, 20.83it/s]\n",
      "100%|██████████| 44/44 [00:01<00:00, 34.40it/s]\n",
      "Epoch: 0004, Iter Loss: 0.4068: 100%|██████████| 135/135 [00:06<00:00, 19.45it/s]\n",
      "100%|██████████| 44/44 [00:01<00:00, 38.48it/s]\n",
      "Epoch: 0005, Iter Loss: 0.3773: 100%|██████████| 135/135 [00:06<00:00, 19.33it/s]\n",
      "100%|██████████| 44/44 [00:01<00:00, 38.61it/s]\n",
      "Epoch: 0006, Iter Loss: 0.3787: 100%|██████████| 135/135 [00:06<00:00, 19.85it/s]\n",
      "100%|██████████| 44/44 [00:00<00:00, 44.17it/s]\n",
      "Epoch: 0007, Iter Loss: 0.2329: 100%|██████████| 135/135 [00:06<00:00, 19.63it/s]\n",
      "100%|██████████| 44/44 [00:01<00:00, 40.68it/s]\n",
      "Epoch: 0008, Iter Loss: 0.2558: 100%|██████████| 135/135 [00:07<00:00, 17.51it/s]\n",
      "100%|██████████| 44/44 [00:00<00:00, 46.47it/s]\n",
      "Epoch: 0009, Iter Loss: 0.1425: 100%|██████████| 135/135 [00:05<00:00, 25.10it/s]\n",
      "100%|██████████| 44/44 [00:01<00:00, 36.19it/s]\n",
      "Epoch: 0010, Iter Loss: 0.2974: 100%|██████████| 135/135 [00:05<00:00, 24.31it/s]\n",
      "100%|██████████| 44/44 [00:00<00:00, 45.65it/s]\n",
      "Epoch: 0011, Iter Loss: 0.2802: 100%|██████████| 135/135 [00:05<00:00, 23.28it/s]\n",
      "100%|██████████| 44/44 [00:01<00:00, 42.65it/s]\n",
      "Epoch: 0012, Iter Loss: 0.2383: 100%|██████████| 135/135 [00:06<00:00, 20.52it/s]\n",
      "100%|██████████| 44/44 [00:01<00:00, 42.99it/s]\n",
      "Epoch: 0013, Iter Loss: 0.3006: 100%|██████████| 135/135 [00:06<00:00, 20.72it/s]\n",
      "100%|██████████| 44/44 [00:01<00:00, 43.46it/s]\n",
      "Epoch: 0014, Iter Loss: 0.2230: 100%|██████████| 135/135 [00:05<00:00, 23.19it/s]\n",
      "100%|██████████| 44/44 [00:01<00:00, 37.53it/s]\n",
      "Epoch: 0015, Iter Loss: 0.1873: 100%|██████████| 135/135 [00:06<00:00, 19.40it/s]\n",
      "100%|██████████| 44/44 [00:00<00:00, 45.72it/s]\n",
      "Epoch: 0016, Iter Loss: 0.2380: 100%|██████████| 135/135 [00:07<00:00, 18.31it/s]\n",
      "100%|██████████| 44/44 [00:01<00:00, 36.61it/s]\n",
      "Epoch: 0017, Iter Loss: 0.2576: 100%|██████████| 135/135 [00:04<00:00, 29.74it/s]\n",
      "100%|██████████| 44/44 [00:00<00:00, 54.82it/s]\n",
      "Epoch: 0018, Iter Loss: 0.1607: 100%|██████████| 135/135 [00:05<00:00, 25.08it/s]\n",
      "100%|██████████| 44/44 [00:00<00:00, 46.74it/s]\n",
      "Epoch: 0019, Iter Loss: 0.1246: 100%|██████████| 135/135 [00:05<00:00, 23.54it/s]\n",
      "100%|██████████| 44/44 [00:00<00:00, 45.01it/s]\n",
      "Epoch: 0020, Iter Loss: 0.2261: 100%|██████████| 135/135 [00:05<00:00, 25.46it/s]\n",
      "100%|██████████| 44/44 [00:00<00:00, 49.92it/s]\n",
      "Epoch: 0021, Iter Loss: 0.1422: 100%|██████████| 135/135 [00:05<00:00, 25.49it/s]\n",
      "100%|██████████| 44/44 [00:00<00:00, 50.58it/s]\n",
      "Epoch: 0022, Iter Loss: 0.1768: 100%|██████████| 135/135 [00:05<00:00, 26.60it/s]\n",
      "100%|██████████| 44/44 [00:00<00:00, 47.99it/s]\n",
      "Epoch: 0023, Iter Loss: 0.1694: 100%|██████████| 135/135 [00:05<00:00, 24.87it/s]\n",
      "100%|██████████| 44/44 [00:00<00:00, 49.83it/s]\n",
      "Epoch: 0024, Iter Loss: 0.1597: 100%|██████████| 135/135 [00:05<00:00, 25.74it/s]\n",
      "100%|██████████| 44/44 [00:00<00:00, 50.88it/s]\n"
     ]
    }
   ],
   "source": [
    "# модель обучаем в режиме teacher forcing, т.е. на вход подаем сразу всю последовательность,\n",
    "# на выходе таргет должен быть смещен на один временной шаг, чтобы правильно считался лосс\n",
    "\n",
    "for epoch in np.arange(0, 25):\n",
    "    epoch_iter = tqdm(dl_train)\n",
    "    series_model.train()\n",
    "    for batch in epoch_iter:\n",
    "        optimizer.zero_grad()\n",
    "        # Чтобы сохранялась временная зависимость\n",
    "        # для предсказания таргет должен быть смешен на один временной шаг\n",
    "        # относительно входа модели\n",
    "        target = batch[-1][:,1:]\n",
    "        result, _ = series_model(batch)        \n",
    "        batch_loss = loss(result, target)\n",
    "        batch_loss.backward()\n",
    "        epoch_iter.set_description(\"Epoch: %04d, Iter Loss: %.4f\"  %(epoch, batch_loss))\n",
    "        optimizer.step()\n",
    "        writer.add_scalar('Loss/train', batch_loss , global_iter)\n",
    "        global_iter += 1\n",
    "    with torch.no_grad():\n",
    "        series_model.eval()\n",
    "        test_model(global_epoch)\n",
    "    global_epoch += 1"
   ]
  },
  {
   "cell_type": "code",
   "execution_count": 29,
   "metadata": {
    "id": "iuhFpuvSuBnu"
   },
   "outputs": [],
   "source": [
    "# сохраняем модель\n",
    "torch.save(series_model.state_dict(), 'models/series_model_15.ptx')"
   ]
  },
  {
   "cell_type": "markdown",
   "metadata": {},
   "source": [
    "### Восстанавливаем модель"
   ]
  },
  {
   "cell_type": "code",
   "execution_count": 30,
   "metadata": {
    "id": "W2XwivAPuBnu",
    "outputId": "35fceed1-259b-4d80-b366-276059593a3b"
   },
   "outputs": [
    {
     "data": {
      "text/plain": [
       "TimeSeriesModel(\n",
       "  (mon_emb): Embedding(13, 4)\n",
       "  (day_emb): Embedding(32, 4)\n",
       "  (_rnn): LSTM(9, 32, batch_first=True)\n",
       "  (_output): Linear(in_features=32, out_features=1, bias=True)\n",
       ")"
      ]
     },
     "execution_count": 30,
     "metadata": {},
     "output_type": "execute_result"
    }
   ],
   "source": [
    "series_model = TimeSeriesModel(32, (4,4))\n",
    "series_model.load_state_dict(torch.load('models/series_model_15.ptx'))\n",
    "\n",
    "series_model"
   ]
  },
  {
   "cell_type": "markdown",
   "metadata": {
    "id": "w7zyXH01uBnu"
   },
   "source": [
    "### TODO\n",
    "Теперь нам нужно для нашего тестового сета сгенерировать результат, и сделать правильный сабмишен. В отличии от режима обучения мы не должгны использовать значения таргетов в тесте, поэтому нам придется тут реализовывать инкрементальный режим генерации сети, т.е. когда на вход подаются фичи и таргет с предыдущего шага на каждоим шаге генерации."
   ]
  },
  {
   "cell_type": "code",
   "execution_count": null,
   "metadata": {},
   "outputs": [],
   "source": []
  },
  {
   "cell_type": "code",
   "execution_count": 31,
   "metadata": {},
   "outputs": [
    {
     "name": "stdout",
     "output_type": "stream",
     "text": [
      "1077\n"
     ]
    }
   ],
   "source": [
    "train_last_window = DataLoader(ds_train, 1, False)\n",
    "last_window = None\n",
    "cnt = 0\n",
    "for b in train_last_window:\n",
    "    cnt += 1\n",
    "    last_window = b\n",
    "print(cnt)"
   ]
  },
  {
   "cell_type": "code",
   "execution_count": 32,
   "metadata": {},
   "outputs": [
    {
     "data": {
      "text/plain": [
       "[tensor([[12, 13, 14, 15, 16, 17, 18, 19, 20, 21, 22, 23, 24, 25, 26, 27, 28, 29,\n",
       "          30, 31]]),\n",
       " tensor([[12, 12, 12, 12, 12, 12, 12, 12, 12, 12, 12, 12, 12, 12, 12, 12, 12, 12,\n",
       "          12, 12]]),\n",
       " tensor([[2018, 2018, 2018, 2018, 2018, 2018, 2018, 2018, 2018, 2018, 2018, 2018,\n",
       "          2018, 2018, 2018, 2018, 2018, 2018, 2018, 2018]]),\n",
       " tensor([[-0.1291, -0.1936, -0.4293, -1.7672, -1.7341, -0.2415, -0.3038, -0.1620,\n",
       "          -0.2428, -0.5024, -1.7640, -1.7625, -0.2683, -0.4030, -0.4092, -0.4963,\n",
       "          -0.5780, -1.0860, -2.0020, -2.2004]])]"
      ]
     },
     "execution_count": 32,
     "metadata": {},
     "output_type": "execute_result"
    }
   ],
   "source": [
    "last_window"
   ]
  },
  {
   "cell_type": "code",
   "execution_count": 33,
   "metadata": {
    "id": "VDSwetI4uBnu",
    "outputId": "0592a554-9912-4f07-e29e-015ec7dc2ce8"
   },
   "outputs": [],
   "source": [
    "with open('result/submission.csv', 'wt') as fd:\n",
    "    print('date,hits', file=fd)\n",
    "\n",
    "    with torch.no_grad():\n",
    "        series_model.eval()\n",
    "        ds_val = TSDataset(data_test, 1)\n",
    "        output, ctx = series_model(last_window)\n",
    "        d, m, year, prev = last_window[0][0,-1:], last_window[1][0,-1:], last_window[2][0,-1:], output[-1:]\n",
    "        # print(d, m, year)\n",
    "        result = []\n",
    "        \n",
    "        for i in np.arange(len(ds_val)):\n",
    "            output, ctx = series_model((d.unsqueeze(0), m.unsqueeze(0), 0, prev.unsqueeze(0)), ctx)\n",
    "            result += [float(output)]\n",
    "            out_val = ds_val[i]\n",
    "            d, m, year, prev = out_val[0], out_val[1], out_val[2], torch.FloatTensor([output])\n",
    "            print(\"%d-%02d-%02d,%d\" %(year, m, d, float(prev) * stats.std + stats.mean), file=fd)"
   ]
  },
  {
   "cell_type": "code",
   "execution_count": 34,
   "metadata": {
    "id": "vx3NQpgVuBnv",
    "outputId": "45ce8b89-bf50-4cee-e925-3920c3e57f6e"
   },
   "outputs": [
    {
     "name": "stdout",
     "output_type": "stream",
     "text": [
      "365\n"
     ]
    },
    {
     "data": {
      "text/plain": [
       "14.102332306155946"
      ]
     },
     "execution_count": 34,
     "metadata": {},
     "output_type": "execute_result"
    }
   ],
   "source": [
    "data_nn_submission = read_set('result/submission.csv')\n",
    "print(len(data_nn_submission))\n",
    "MAPE(data_test, data_nn_submission)"
   ]
  },
  {
   "cell_type": "code",
   "execution_count": 35,
   "metadata": {
    "id": "1N47rqGguBnv",
    "outputId": "df0c8d55-6ae2-484c-976c-1f757566f36c"
   },
   "outputs": [
    {
     "data": {
      "image/png": "[encoded data removed]",
      "text/plain": [
       "<Figure size 640x480 with 1 Axes>"
      ]
     },
     "metadata": {},
     "output_type": "display_data"
    }
   ],
   "source": [
    "plt.figure()\n",
    "# data_train['value'].plot(kind = 'line')\n",
    "data_test['value'].plot(kind = 'line')\n",
    "#plt.plot(data_forecaste, label = \"Prediction\")\n",
    "data_nn_submission['value'].plot(kind = 'line')\n",
    "plt.show()"
   ]
  },
  {
   "cell_type": "code",
   "execution_count": null,
   "metadata": {},
   "outputs": [],
   "source": []
  }
 ],
 "metadata": {
  "colab": {
   "provenance": []
  },
  "kernelspec": {
   "display_name": "Python 3.8.10 64-bit",
   "language": "python",
   "name": "python3"
  },
  "language_info": {
   "codemirror_mode": {
    "name": "ipython",
    "version": 3
   },
   "file_extension": ".py",
   "mimetype": "text/x-python",
   "name": "python",
   "nbconvert_exporter": "python",
   "pygments_lexer": "ipython3",
   "version": "3.8.10"
  },
  "vscode": {
   "interpreter": {
    "hash": "e7370f93d1d0cde622a1f8e1c04877d8463912d04d973331ad4851f04de6915a"
   }
  }
 },
 "nbformat": 4,
 "nbformat_minor": 4
}
